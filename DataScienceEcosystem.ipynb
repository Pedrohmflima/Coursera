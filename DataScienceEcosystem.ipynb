{
 "cells": [
  {
   "cell_type": "markdown",
   "id": "e113b6ad-ce0d-4ebb-bd9b-24af8a874561",
   "metadata": {},
   "source": [
    "# Data Science Tools and Ecosystem"
   ]
  },
  {
   "cell_type": "markdown",
   "id": "de517fc0-89a2-4bb7-bf04-f6ada9a85420",
   "metadata": {},
   "source": [
    "Neste notebook, as Ferramentas e Ecossistema de Ciência de Dados são resumidos."
   ]
  },
  {
   "cell_type": "markdown",
   "id": "5d16f1ad-c976-481d-86a9-559aab242002",
   "metadata": {},
   "source": [
    "**Objetivos:**\n",
    "- Aprender Versionamento de Dados\n",
    "- Utilizar Github para hospedar o seu repositório\n",
    "- Utilizar o Jupyter Nootebook\n",
    "- RStudio"
   ]
  },
  {
   "cell_type": "markdown",
   "id": "cc9495eb-f2b0-4827-84f6-822db7cbaa43",
   "metadata": {},
   "source": [
    "Algumas das linguagens populares que os Cientistas de Dados usam são:\n",
    "1. Python\n",
    "2. R\n",
    "3. SQL"
   ]
  },
  {
   "cell_type": "markdown",
   "id": "85e97ae2-539c-41de-a4c4-0e9657e7539a",
   "metadata": {},
   "source": [
    "Algumas das bibliotecas comumente usadas por Cientistas de Dados incluem:\n",
    "1. Pandas\n",
    "2. Matplotlib\n",
    "3. Numpy\n",
    "4. Scikit-learn"
   ]
  },
  {
   "cell_type": "markdown",
   "id": "34f9d55f-5df6-4fc6-9a2e-3e3329d5aee5",
   "metadata": {},
   "source": [
    "| Ferramentas de Ciência de Dados |\n",
    "| --------------------------------|\n",
    "|Jupyter Notebook|\n",
    "|Apache Spark|\n",
    "|Apache Hadoop|"
   ]
  },
  {
   "cell_type": "markdown",
   "id": "6c4adb97-5efa-4447-a00d-bd4e0e75a270",
   "metadata": {},
   "source": [
    "### Abaixo estão alguns exemplos de avaliação de expressões aritméticas em Python."
   ]
  },
  {
   "cell_type": "code",
   "execution_count": 5,
   "id": "745d87d4-037c-424c-9c74-dcbb6cb013c9",
   "metadata": {},
   "outputs": [
    {
     "data": {
      "text/plain": [
       "17"
      ]
     },
     "execution_count": 5,
     "metadata": {},
     "output_type": "execute_result"
    }
   ],
   "source": [
    "#Esta é uma expressão aritmética simples para multiplicar e depois adicionar inteiros\n",
    "(3*4)+5"
   ]
  },
  {
   "cell_type": "code",
   "execution_count": 9,
   "id": "2c22d6f0-cf3c-4b45-a954-1e1c59b17b75",
   "metadata": {},
   "outputs": [
    {
     "data": {
      "text/plain": [
       "3"
      ]
     },
     "execution_count": 9,
     "metadata": {},
     "output_type": "execute_result"
    }
   ],
   "source": [
    "#Isso converterá 200 minutos em horas dividindo por 60\n",
    "minutos = 200\n",
    "converter_horas = minutos//60\n",
    "converter_horas"
   ]
  },
  {
   "cell_type": "markdown",
   "id": "7d518c49-0a64-471d-bb11-9c038d3d1a71",
   "metadata": {},
   "source": [
    "## Autor\n",
    "Pedro Henrique Medeiros Ferreira Lima"
   ]
  }
 ],
 "metadata": {
  "kernelspec": {
   "display_name": "Python 3 (ipykernel)",
   "language": "python",
   "name": "python3"
  },
  "language_info": {
   "codemirror_mode": {
    "name": "ipython",
    "version": 3
   },
   "file_extension": ".py",
   "mimetype": "text/x-python",
   "name": "python",
   "nbconvert_exporter": "python",
   "pygments_lexer": "ipython3",
   "version": "3.12.7"
  }
 },
 "nbformat": 4,
 "nbformat_minor": 5
}
